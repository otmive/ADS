{
 "cells": [
  {
   "cell_type": "code",
   "execution_count": 1,
   "metadata": {},
   "outputs": [],
   "source": [
    "# resize the images in all of the subfolders of ../data/uob_image_set/ to 224x224\n",
    "# and save them in ../data/uob_image_set_resized/\n",
    "\n",
    "import os\n",
    "import cv2\n",
    "import numpy as np\n",
    "from tqdm import tqdm"
   ]
  },
  {
   "cell_type": "code",
   "execution_count": 2,
   "metadata": {},
   "outputs": [
    {
     "name": "stderr",
     "output_type": "stream",
     "text": [
      "100%|██████████| 1500/1500 [01:09<00:00, 21.53it/s]\n"
     ]
    }
   ],
   "source": [
    "# get all subfolders of ../data/uob_image_set/\n",
    "folders = os.listdir('../data/uob_image_set/')\n",
    "# remove hidden files\n",
    "folders = [f for f in folders if not f.startswith('.')]\n",
    "\n",
    "# remove resized folder if it already exists\n",
    "if os.path.exists('../data/uob_image_set_resized/'):\n",
    "    os.system('rm -r ../data/uob_image_set_resized/')\n",
    "\n",
    "# Create resized folder\n",
    "os.makedirs('../data/uob_image_set_resized/')\n",
    "\n",
    "# loop through all subfolders\n",
    "for folder in tqdm(folders):\n",
    "    # create the subfolder in the resized folder\n",
    "    if not os.path.exists('../data/uob_image_set_resized/' + folder):\n",
    "        os.makedirs('../data/uob_image_set_resized/' + folder)\n",
    "    # get all files in the subfolder\n",
    "    files = os.listdir('../data/uob_image_set/' + folder)\n",
    "    # remove hidden files\n",
    "    files = [f for f in files if not f.startswith('.')]\n",
    "    # loop through all files in the subfolder\n",
    "    for file in files:\n",
    "        # read the image\n",
    "        img = cv2.imread('../data/uob_image_set/' + folder + '/' + file)\n",
    "        # resize the image\n",
    "        img = cv2.resize(img, (224, 224))\n",
    "        # save the image\n",
    "        cv2.imwrite('../data/uob_image_set_resized/' + folder + '/' + file, img)"
   ]
  },
  {
   "cell_type": "code",
   "execution_count": null,
   "metadata": {},
   "outputs": [],
   "source": []
  }
 ],
 "metadata": {
  "kernelspec": {
   "display_name": "training",
   "language": "python",
   "name": "python3"
  },
  "language_info": {
   "codemirror_mode": {
    "name": "ipython",
    "version": 3
   },
   "file_extension": ".py",
   "mimetype": "text/x-python",
   "name": "python",
   "nbconvert_exporter": "python",
   "pygments_lexer": "ipython3",
   "version": "3.10.9"
  },
  "orig_nbformat": 4,
  "vscode": {
   "interpreter": {
    "hash": "d09fb8ad6efe61d1c886228c49d873110aaa45536568e2fdba2287d5f51ed66c"
   }
  }
 },
 "nbformat": 4,
 "nbformat_minor": 2
}
