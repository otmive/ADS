{
 "cells": [
  {
   "cell_type": "code",
   "execution_count": 12,
   "metadata": {},
   "outputs": [],
   "source": [
    "# Take the data from data/uob_image_set/ and turn into a dataset with the folder names as the class labels\n",
    "# This is a preprocessing step for the UOB Image Set\n",
    "\n",
    "# Import the necessary libraries\n",
    "import os\n",
    "import shutil\n",
    "import pandas as pd\n",
    "import numpy as np\n",
    "import seaborn as sns\n",
    "import cv2\n",
    "import random\n",
    "import pickle"
   ]
  },
  {
   "cell_type": "code",
   "execution_count": 13,
   "metadata": {},
   "outputs": [],
   "source": [
    "\n",
    "# Set the path to the data\n",
    "path = '/Users/rz20505/Documents/training_year/applied_data_science/data/uob_image_set/'\n",
    "\n",
    "# Get the list of folders in the data\n",
    "folders = os.listdir(path)\n",
    "\n",
    "# Remove any hidden files\n",
    "folders = [f for f in folders if not f.startswith('.')]\n",
    "\n",
    "# Create a list of the classes\n",
    "classes = []\n",
    "\n",
    "# Create a list of the images\n",
    "images = []\n",
    "\n",
    "# Create a list of the image paths\n",
    "image_paths = []\n",
    "\n",
    "# Create a list of the image classes\n",
    "image_classes = []"
   ]
  },
  {
   "cell_type": "code",
   "execution_count": 14,
   "metadata": {},
   "outputs": [],
   "source": [
    "# Loop through the folders\n",
    "for folder in folders:\n",
    "    # Get the list of images in the folder\n",
    "    images = os.listdir(path + folder)\n",
    "\n",
    "    # Loop through the images\n",
    "    for image in images:\n",
    "\n",
    "        # Get the image path\n",
    "        image_path = path + folder + '/' + image\n",
    "\n",
    "        # Append the image path to the list\n",
    "        image_paths.append(image_path)\n",
    "\n",
    "        # Append the class to the list\n",
    "        image_classes.append(folder)\n",
    "\n",
    "# Create a dataframe with the image paths and classes\n",
    "df = pd.DataFrame({'image_path': image_paths, 'class': image_classes})"
   ]
  },
  {
   "cell_type": "code",
   "execution_count": 16,
   "metadata": {},
   "outputs": [],
   "source": [
    "# Save the dataframe to a csv file\n",
    "df.to_csv('../data/processed/folder_as_class.csv', index=False)"
   ]
  },
  {
   "cell_type": "code",
   "execution_count": null,
   "metadata": {},
   "outputs": [],
   "source": []
  }
 ],
 "metadata": {
  "kernelspec": {
   "display_name": "YOLOv5_env",
   "language": "python",
   "name": "yolov5_env"
  },
  "language_info": {
   "codemirror_mode": {
    "name": "ipython",
    "version": 3
   },
   "file_extension": ".py",
   "mimetype": "text/x-python",
   "name": "python",
   "nbconvert_exporter": "python",
   "pygments_lexer": "ipython3",
   "version": "3.11.1"
  },
  "orig_nbformat": 4,
  "vscode": {
   "interpreter": {
    "hash": "d09fb8ad6efe61d1c886228c49d873110aaa45536568e2fdba2287d5f51ed66c"
   }
  }
 },
 "nbformat": 4,
 "nbformat_minor": 2
}
