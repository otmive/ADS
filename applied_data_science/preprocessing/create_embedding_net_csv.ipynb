{
 "cells": [
  {
   "cell_type": "code",
   "execution_count": 8,
   "metadata": {},
   "outputs": [],
   "source": [
    "# Create a csv file for the embedding_net model\n",
    "# csv has 2 columns, image_id and label\n",
    "# data from ../data/uob_image_set_resized\n",
    "# destination ../data/processed/embedding_net/embedding_net_csv\n",
    "# each class must have at least 1 image for train and val set\n",
    "\n",
    "import os\n",
    "import pandas as pd\n",
    "import numpy as np\n",
    "import random\n",
    "import shutil\n"
   ]
  },
  {
   "cell_type": "code",
   "execution_count": 14,
   "metadata": {},
   "outputs": [],
   "source": [
    "# create a list of all the image ids\n",
    "# image ids are the file path and name \n",
    "\n",
    "image_set_path = '../data/uob_image_set_resized'\n",
    "\n",
    "# create a dataframe with 2 columns, image_id and label\n",
    "df = pd.DataFrame(columns=['image_id', 'label'])\n",
    "\n",
    "# Read in the folders as classes, without the .DS_Store file\n",
    "for folder in os.listdir(image_set_path):\n",
    "    if folder != '.DS_Store':\n",
    "        # create a list of all the image ids\n",
    "        # image ids are the file path and name \n",
    "        image_id_list = [os.path.join(image_set_path, folder, image) for image in os.listdir(os.path.join(image_set_path, folder))]\n",
    "        # create a list of labels, same length as image_id_list\n",
    "        label_list = [folder] * len(image_id_list)\n",
    "        # create a dataframe with 2 columns, image_id and label\n",
    "        df_temp = pd.DataFrame({'image_id': image_id_list, 'label': label_list})\n",
    "        # append to the main dataframe with pd.concat\n",
    "        df = pd.concat([df, df_temp], axis=0)"
   ]
  },
  {
   "cell_type": "code",
   "execution_count": 15,
   "metadata": {},
   "outputs": [
    {
     "data": {
      "text/html": [
       "<div>\n",
       "<style scoped>\n",
       "    .dataframe tbody tr th:only-of-type {\n",
       "        vertical-align: middle;\n",
       "    }\n",
       "\n",
       "    .dataframe tbody tr th {\n",
       "        vertical-align: top;\n",
       "    }\n",
       "\n",
       "    .dataframe thead th {\n",
       "        text-align: right;\n",
       "    }\n",
       "</style>\n",
       "<table border=\"1\" class=\"dataframe\">\n",
       "  <thead>\n",
       "    <tr style=\"text-align: right;\">\n",
       "      <th></th>\n",
       "      <th>image_id</th>\n",
       "      <th>label</th>\n",
       "    </tr>\n",
       "  </thead>\n",
       "  <tbody>\n",
       "    <tr>\n",
       "      <th>0</th>\n",
       "      <td>../data/uob_image_set_resized/15444531/1544453...</td>\n",
       "      <td>15444531</td>\n",
       "    </tr>\n",
       "    <tr>\n",
       "      <th>1</th>\n",
       "      <td>../data/uob_image_set_resized/15444531/1544453...</td>\n",
       "      <td>15444531</td>\n",
       "    </tr>\n",
       "    <tr>\n",
       "      <th>2</th>\n",
       "      <td>../data/uob_image_set_resized/15444531/1544453...</td>\n",
       "      <td>15444531</td>\n",
       "    </tr>\n",
       "    <tr>\n",
       "      <th>3</th>\n",
       "      <td>../data/uob_image_set_resized/15444531/1544453...</td>\n",
       "      <td>15444531</td>\n",
       "    </tr>\n",
       "    <tr>\n",
       "      <th>0</th>\n",
       "      <td>../data/uob_image_set_resized/13507603/1350760...</td>\n",
       "      <td>13507603</td>\n",
       "    </tr>\n",
       "    <tr>\n",
       "      <th>...</th>\n",
       "      <td>...</td>\n",
       "      <td>...</td>\n",
       "    </tr>\n",
       "    <tr>\n",
       "      <th>2</th>\n",
       "      <td>../data/uob_image_set_resized/15867162/1586716...</td>\n",
       "      <td>15867162</td>\n",
       "    </tr>\n",
       "    <tr>\n",
       "      <th>3</th>\n",
       "      <td>../data/uob_image_set_resized/15867162/1586716...</td>\n",
       "      <td>15867162</td>\n",
       "    </tr>\n",
       "    <tr>\n",
       "      <th>0</th>\n",
       "      <td>../data/uob_image_set_resized/16300970/1630097...</td>\n",
       "      <td>16300970</td>\n",
       "    </tr>\n",
       "    <tr>\n",
       "      <th>1</th>\n",
       "      <td>../data/uob_image_set_resized/16300970/1630097...</td>\n",
       "      <td>16300970</td>\n",
       "    </tr>\n",
       "    <tr>\n",
       "      <th>2</th>\n",
       "      <td>../data/uob_image_set_resized/16300970/1630097...</td>\n",
       "      <td>16300970</td>\n",
       "    </tr>\n",
       "  </tbody>\n",
       "</table>\n",
       "<p>6411 rows × 2 columns</p>\n",
       "</div>"
      ],
      "text/plain": [
       "                                             image_id     label\n",
       "0   ../data/uob_image_set_resized/15444531/1544453...  15444531\n",
       "1   ../data/uob_image_set_resized/15444531/1544453...  15444531\n",
       "2   ../data/uob_image_set_resized/15444531/1544453...  15444531\n",
       "3   ../data/uob_image_set_resized/15444531/1544453...  15444531\n",
       "0   ../data/uob_image_set_resized/13507603/1350760...  13507603\n",
       "..                                                ...       ...\n",
       "2   ../data/uob_image_set_resized/15867162/1586716...  15867162\n",
       "3   ../data/uob_image_set_resized/15867162/1586716...  15867162\n",
       "0   ../data/uob_image_set_resized/16300970/1630097...  16300970\n",
       "1   ../data/uob_image_set_resized/16300970/1630097...  16300970\n",
       "2   ../data/uob_image_set_resized/16300970/1630097...  16300970\n",
       "\n",
       "[6411 rows x 2 columns]"
      ]
     },
     "execution_count": 15,
     "metadata": {},
     "output_type": "execute_result"
    }
   ],
   "source": [
    "df"
   ]
  },
  {
   "cell_type": "code",
   "execution_count": null,
   "metadata": {},
   "outputs": [],
   "source": []
  }
 ],
 "metadata": {
  "kernelspec": {
   "display_name": "training",
   "language": "python",
   "name": "python3"
  },
  "language_info": {
   "codemirror_mode": {
    "name": "ipython",
    "version": 3
   },
   "file_extension": ".py",
   "mimetype": "text/x-python",
   "name": "python",
   "nbconvert_exporter": "python",
   "pygments_lexer": "ipython3",
   "version": "3.10.9"
  },
  "orig_nbformat": 4,
  "vscode": {
   "interpreter": {
    "hash": "d09fb8ad6efe61d1c886228c49d873110aaa45536568e2fdba2287d5f51ed66c"
   }
  }
 },
 "nbformat": 4,
 "nbformat_minor": 2
}
